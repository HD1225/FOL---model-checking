{
  "cells": [
    {
      "cell_type": "markdown",
      "metadata": {
        "id": "NovkN-SVGJqw"
      },
      "source": [
        "# Goals:\n",
        "*   You have to implement model *checking* functions for **First Order Logic**, that automatically compute, for any closed formula and any model, the truth value of this formula in this model. (Having completed the model checking section of the first part of the assignment, about Propositional Logic, helps a lot with this part of the assignment.)"
      ]
    },
    {
      "cell_type": "markdown",
      "metadata": {
        "id": "maJnEwBPGTSY"
      },
      "source": [
        "# This is part of an assignment\n",
        "*   This Colab notebook contains the second (and last) part of the assignment.\n",
        "*   The assignment should be completed in group of two or three students.\n",
        "*   Students repeating the year (\"redoublant·e·s\") do not have to complete this assignment (but another one later in the semester).\n",
        "*   Your grade will depend in part on your code and in part on a short oral examination (a single examination for the whole assignment). To schedule an appointment, follow this link: https://appt.link/timothee-bernard/computational-semantics.\n",
        "*   Send me an email by Sunday **12th 23:59** to inform me of the composition of your group. By this time, your group should also have scheduled an appointment for the oral examination. Malus: -2 per day of delay.\n",
        "*   Send me your work (both parts) completed by Sunday  **19th February 23:59**. Malus: -1 per day of delay.\n",
        "*   Make sure that your code is clear and well commented. **The quality of your code will be taken into account.**\n",
        "*   **Read all comments and follow all instructions very carefully.** If you do not understand one of them, ask me. Also, remember that everything (each method, its argument·s, etc.) is here for a reason.\n",
        "*   Any source of inspiration (e.g. the internet, some other student) should be properly acknowledged."
      ]
    },
    {
      "cell_type": "markdown",
      "metadata": {
        "id": "_FjFPFxbyS3X"
      },
      "source": [
        "# How to work efficiently with Colab on this project:\n",
        "*   Copy this notebook (File>Save a copy in Drive).\n",
        "*   In class, your group can be more efficient if each member works on their own copy: everyone can try to find a solution in parallel before sharing what works with the others.\n",
        "*   At some point (when most of the problems have been solved), you might want to use a single Colab notebook for the whole group. You can share your copy with your collaborators using the sharing menu."
      ]
    },
    {
      "cell_type": "markdown",
      "metadata": {
        "id": "-m8ver8vyU1L"
      },
      "source": [
        "# How to send me your work:\n",
        "*   Use the sharing menu (top-right of the window) to share it with timothee.m.r.bernard@gmail.com.\n",
        "(I don't check this address very often, so, for questions, please use Moodle or my u-paris.fr address.)\n",
        "*   You are asked to share me both parts of the assignment. (So, two notebooks in total for your group.)\n",
        "*   Review your code before sharing it with me, in order to check that is is clear, concise and well commented."
      ]
    },
    {
      "cell_type": "markdown",
      "metadata": {
        "id": "QZcBBTMFv4PP"
      },
      "source": [
        "# Remark:\n",
        "*  The code you will find here uses tabulations for indentation. Please be aware of the fact that Python might not behave correctly if you use a mix of tabulations and spaces for indentation. There is a way to set Colab's settings so that the type of characters used for indentation is shown.\n",
        "*  Make sure that what you print is self-explanatory (one should not have to look at the code to understand what is printed). This advice is relevant to all assignments, for other courses as well as this one."
      ]
    },
    {
      "cell_type": "code",
      "execution_count": 1,
      "metadata": {
        "id": "UnGxKvPhF-6w"
      },
      "outputs": [],
      "source": [
        "# Checks that `o` is an instance of `t` (ex: integer, list).\n",
        "# Produces a clear error message otherwise.\n",
        "# This function is not essential but can help a lot for debugging.\n",
        "def check_type(o, t, name=None):\n",
        "\tif(name is None): name = \"[no name]\"\n",
        "\tassert isinstance(o, t), (f\"Type problem: variable {name} (type: {type(o)}; value: {o}) is not an instance of {t}\")"
      ]
    },
    {
      "cell_type": "code",
      "execution_count": 2,
      "metadata": {
        "id": "w-DmwcdqISro"
      },
      "outputs": [],
      "source": [
        "# Example 1:\n",
        "check_type([1,2,3], list) # Works fine because [1,2,3] is indeed a list."
      ]
    },
    {
      "cell_type": "code",
      "execution_count": 3,
      "metadata": {
        "id": "J5sJSwtmIWQx"
      },
      "outputs": [],
      "source": [
        "# Example 2:\n",
        "# check_type(1, list) # An AssertionError exception is raised because 1 is not a list.\n",
        "\n",
        "# After modification\n",
        "check_type([1], list)"
      ]
    },
    {
      "cell_type": "markdown",
      "metadata": {
        "id": "rQ8t0UB1If5e"
      },
      "source": [
        "*  Although it would be possible to represent constants, variables and predicates with a string only (ex: \"Jeanne\", \"x\", \"eat\"), we here use three different classes for these three kinds of objects so that they can be more easily distinguished from each other.\n",
        "*  The `isinstance` function can be used to determine whether a given object instantiate a given class.\n",
        "*  The properties and methods of a class that have a name starting with an underscore (\"_\"; ex: `self._true_ps`) are not meant to be accessed directly outside of this class, but only within the class itself (in other words, they are *private*). While Python will not say anything special if you do not respect this convention, you definitely should."
      ]
    },
    {
      "cell_type": "code",
      "execution_count": 37,
      "metadata": {
        "id": "G1zhHQ2DIXsQ"
      },
      "outputs": [],
      "source": [
        "# Constant\n",
        "class C:\n",
        "\t# name: string\n",
        "\tdef __init__(self, name):\n",
        "\t\tcheck_type(name, str, \"name\")\n",
        "\t\t\n",
        "\t\tself._name = name\n",
        "\t\n",
        "\t# Defines the behaviour of \"==\".\n",
        "\t# In this case: two C·s are considered equal if they have the same `_name`.\n",
        "\tdef __eq__(self, other):\n",
        "\t\treturn isinstance(other, C) and self._name == other._name\n",
        "\n",
        "\t# Required to be able to use the class in sets or dictionaries.\n",
        "\tdef __hash__(self):\n",
        "\t\treturn hash(self._name)\n",
        "\t\n",
        "\t# Returns a string representation of the object. Used to print the object in a readable way.\n",
        "\tdef __str__(self):\n",
        "\t\treturn self._name\n",
        "\t\n",
        "\t# Returns a string representation of the object. Also used to print the object in a readable way.\n",
        "\tdef __repr__(self):\n",
        "\t\treturn str(self)"
      ]
    },
    {
      "cell_type": "code",
      "execution_count": 38,
      "metadata": {
        "id": "K_ODKxEhIve7"
      },
      "outputs": [],
      "source": [
        "# Variable\n",
        "class V:\n",
        "\t# name: string\n",
        "\tdef __init__(self, name):\n",
        "\t\tcheck_type(name, str, \"name\")\n",
        "\t\t\n",
        "\t\tself._name = name\n",
        "\t\n",
        "\t# Defines the behaviour of \"==\".\n",
        "\t# In this case: two V·s are considered equal if they have the same `_name`.\n",
        "\tdef __eq__(self, other):\n",
        "\t\treturn isinstance(other, V) and self._name == other._name\n",
        "\t\n",
        "\t# Required to be able to use the class in sets or dictionaries.\n",
        "\tdef __hash__(self):\n",
        "\t\treturn hash(self._name)\n",
        "\t\n",
        "\t# Returns a string representation of the object. Used to print the object in a readable way.\n",
        "\tdef __str__(self):\n",
        "\t\treturn self._name\n",
        "\t\n",
        "\t# Returns a string representation of the object. Also used to print the object in a readable way in more complex case.\n",
        "\tdef __repr__(self):\n",
        "\t\treturn str(self)"
      ]
    },
    {
      "cell_type": "code",
      "execution_count": 39,
      "metadata": {
        "id": "WqOjdtJEIxGC"
      },
      "outputs": [],
      "source": [
        "# Predicate\n",
        "class P:\n",
        "\t# name: string\n",
        "\tdef __init__(self, name, arity):\n",
        "\t\tcheck_type(name, str, \"name\")\n",
        "\t\tcheck_type(arity, int, \"arity\")\n",
        "\t\t\n",
        "\t\tself._name = name\n",
        "\t\tself.arity = arity\n",
        "\t\n",
        "\t# Defines the behaviour of \"==\".\n",
        "\t# In this case: two P·s are considered equal if they have the same `_name` and the same `arity`.\n",
        "\tdef __eq__(self, other):\n",
        "\t\treturn isinstance(other, P) and (self._name == other._name) and (self.arity == other.arity)\n",
        "\t\n",
        "\t# Required to be able to use the class in sets or dictionaries.\n",
        "\tdef __hash__(self):\n",
        "\t\treturn hash((self._name, self.arity))\n",
        "\t\n",
        "\t# Returns a string representation of the object. Used to print the object in a readable way.\n",
        "\tdef __str__(self):\n",
        "\t\treturn self._name\n",
        "\t\n",
        "\t# Returns a string representation of the object. Also used to print the object in a readable way.\n",
        "\tdef __repr__(self):\n",
        "\t\treturn str(self)"
      ]
    },
    {
      "cell_type": "markdown",
      "metadata": {
        "id": "3tz_-c3KI1Cb"
      },
      "source": [
        "# Instructions\n",
        "*  Instantiate and then print a constant \"Sabine\", a variable \"x\" and a binary predicate \"eat\".\n",
        "*  Use `isinstance` to check that these objects instantiate the class you think they instantiate."
      ]
    },
    {
      "cell_type": "code",
      "execution_count": 40,
      "metadata": {
        "id": "j4hA3SzhIyaJ"
      },
      "outputs": [
        {
          "name": "stdout",
          "output_type": "stream",
          "text": [
            "constant: Sabine\n",
            "variable: x\n",
            "binary predicate: eat\n",
            "Sabine is a constant : True\n",
            "x is a variable : True\n",
            "eat is a predicate : True\n"
          ]
        }
      ],
      "source": [
        "# instantiate a constant, a variable and a binary predicate\n",
        "c = C(\"Sabine\")\n",
        "v = V(\"x\")\n",
        "p = P(\"eat\", 2)\n",
        "\n",
        "# print them\n",
        "print(\"constant:\", c)\n",
        "print(\"variable:\", v)\n",
        "print(\"binary predicate:\", p)\n",
        "\n",
        "# check if these objects instantiate the same class they are supposed to instantiate.\n",
        "print(f\"{c} is a constant : {isinstance(c, C)}\") # True\n",
        "print(f\"{v} is a variable : {isinstance(v, V)}\") # True\n",
        "print(f\"{p} is a predicate : {isinstance(p, P)}\") # True"
      ]
    },
    {
      "cell_type": "markdown",
      "metadata": {
        "id": "72Uqgg6XJWU2"
      },
      "source": [
        "A model of First Order Logic consists of a domain and an interpretation function.\n",
        "*  The domain is simply a set the element of which are called \"individuals\". Here, individuals will be integers.\n",
        "*  The interpretation function sends any constant to an individual and any predicate to a tuple of individuals (see slides)."
      ]
    },
    {
      "cell_type": "code",
      "execution_count": 41,
      "metadata": {
        "id": "Y82NuUCCJbTy"
      },
      "outputs": [],
      "source": [
        "class InterpretationFunc:\n",
        "\t# c_dic: dictionary; keys are C·s, values are integers\n",
        "\t# p_dic: dictionary; keys are P·s, values are sets of tuples of integers\n",
        "\tdef __init__(self, c_dic, p_dic):\n",
        "\t\tself._c_dic = c_dic\n",
        "\t\tself._p_dic = p_dic\n",
        "\t\n",
        "\t# Remark: __getitem__ can be called using the []-notation: \"i[x]\" is translated as \"i.__getitem__(x)\".\n",
        "\t# Returns the interpretation of `x`.\n",
        "\t# x: either a C or a P\n",
        "\tdef __getitem__(self, x):\n",
        "\t\tif(isinstance(x, C)): return self._c_dic[x] # Raises an exception if the constant has no entry in `_c_dic`.\n",
        "\t\tif(isinstance(x, P)): return self._p_dic.get(x, set()) # Returns an empty set if the predicate has no entry in `_p_dic`.\n",
        "\t\traise TypeError\n",
        "\t\n",
        "\t# Returns the list obtained from `l` by replacing all constants by their interpretation (other elements should appear unaffected).\n",
        "\t# (Be aware that this function returns a list and not a tuple. If you need a tuple, use the `tuple` function to convert the list into one.)\n",
        "\t# l: list of C·s and V·s\n",
        "\tdef map(self, l):\n",
        "\t\tcheck_type(l, list, \"l\")\n",
        "\t\tlst = []\n",
        "\t\tfor item in l:\n",
        "\t\t\tif isinstance(item, C):\n",
        "\t\t\t\tlst.append(self._c_dic[item])\n",
        "\t\t\telse:\n",
        "\t\t\t\tlst.append(item)\n",
        "\t\treturn lst\n",
        "\n",
        "\t# Returns a string representation of the object. Used to print the object in a readable way.\n",
        "\tdef __str__(self):\n",
        "\t\ttmp = list(self._c_dic.items())\n",
        "\t\ttmp.extend(self._p_dic.items())\n",
        "\t\ts = ', '.join([f\"{k}: {v}\" for (k, v) in tmp])\n",
        "\t\treturn '{' + s + '}'"
      ]
    },
    {
      "cell_type": "markdown",
      "metadata": {
        "id": "U6mtVYM5JjFe"
      },
      "source": [
        "# Instructions\n",
        "*  Complete `InterpretationFunc.map` above.\n",
        "*  Instantiate an interpretation function `i_func` that interprets the constant \"Sabine\" as the integer 1, and predicates \"tall\" \"eat\" and \"like\" as non-empty sets. Warning: the one-tuple composed of element `x` is written as `(x,)` in Python (instead of `(x)`, which is just another way to write `x`).\n",
        "*  Print `i_func`."
      ]
    },
    {
      "cell_type": "code",
      "execution_count": 42,
      "metadata": {
        "id": "T7w0KRlFJhbJ"
      },
      "outputs": [
        {
          "name": "stdout",
          "output_type": "stream",
          "text": [
            "interpretation function: {Sabine: 1, tall: {1}, eat: {(1, 2)}, like: {(1, 3)}}\n"
          ]
        }
      ],
      "source": [
        "# instantiate a constant \"Sabine\" and three predicates \"tall\", \"eat\" and \"like\"\n",
        "Sabine = C(\"Sabine\")\n",
        "tall = P(\"tall\", 1)\n",
        "eat = P(\"eat\", 2)\n",
        "like = P(\"like\", 2)\n",
        "\n",
        "# instantiate an interpretation function\n",
        "i_func = InterpretationFunc({Sabine: 1}, {tall: {(1)}, eat: {(1, 2)}, like: {(1, 3)}})\n",
        "\n",
        "# print it\n",
        "print(\"interpretation function:\", i_func)"
      ]
    },
    {
      "cell_type": "code",
      "execution_count": 43,
      "metadata": {
        "id": "NiusaZuSKpU4"
      },
      "outputs": [],
      "source": [
        "class Model:\n",
        "\t# domain: set of integers\n",
        "\t# i_func: InterpretationFunc\n",
        "\tdef __init__(self, domain, i_func):\n",
        "\t\tcheck_type(domain, set, \"domain\")\n",
        "\t\tcheck_type(i_func, InterpretationFunc, \"i_func\")\n",
        "\t\t\n",
        "\t\tself.domain = domain\n",
        "\t\tself.i_func = i_func\n",
        "\t\n",
        "\t# Returns a string representation of the object. Used to print the object in a readable way.\n",
        "\tdef __str__(self):\n",
        "\t\treturn f'{{D={self.domain}; I={self.i_func}}}'"
      ]
    },
    {
      "cell_type": "markdown",
      "metadata": {
        "id": "bvLbRNJfKl2E"
      },
      "source": [
        "# Instructions\n",
        "*  Instantiate a model `model` from a finite domain and the `i_func` interpretation function defined previously.\n",
        "*  Print `model`."
      ]
    },
    {
      "cell_type": "code",
      "execution_count": 44,
      "metadata": {
        "id": "IbVxbQgJKmVw"
      },
      "outputs": [
        {
          "name": "stdout",
          "output_type": "stream",
          "text": [
            "model: {D={1, 2, 3}; I={Sabine: 1, tall: {1}, eat: {(1, 2)}, like: {(1, 3)}}}\n"
          ]
        }
      ],
      "source": [
        "# instantiate a model\n",
        "m = Model({1, 2, 3}, i_func)\n",
        "# print it\n",
        "print(\"model:\", m)"
      ]
    },
    {
      "cell_type": "markdown",
      "metadata": {
        "id": "F4H2_Ad2LZ0f"
      },
      "source": [
        "* \tWe here use partial variable assignment (i.e. that may not assign a value to all variables).\n",
        "* \tIn order to interpret a formula, we will start from an empty variable assignment and then expend/update it when a quantifier is encountered (see the clause for the interpretation of quantifiers in the slides)."
      ]
    },
    {
      "cell_type": "markdown",
      "metadata": {
        "id": "WiY39TDD0962"
      },
      "source": [
        "# Instructions\n",
        "*  Complete `VarAssignment.assign`.\n",
        "*  Complete `VarAssignment.map`."
      ]
    },
    {
      "cell_type": "code",
      "execution_count": 45,
      "metadata": {
        "id": "_lv7TcRXLY6Y"
      },
      "outputs": [],
      "source": [
        "# For variable assignments.\n",
        "class VarAssignment:\n",
        "\t# dic: dictionary; keys are Vs, values are integers\n",
        "\t# If `dic` is not specified, the empty dictionary ({}) is used.\n",
        "\tdef __init__(self, dic={}):\n",
        "\t\tcheck_type(dic, dict, \"dic\")\n",
        "\t\t\n",
        "\t\tself._dic = dic\n",
        "\t\n",
        "\t# Returns the variable assignment that only differ from the present one (i.e. `self`) with \"x := d\".\n",
        "\t# The present assignment is not modified and a new assignment is instantiated.\n",
        "\t# x: V\n",
        "\t# d: integer\n",
        "\tdef assign(self, x, d):\n",
        "\t\tcheck_type(x, V, \"x\")\n",
        "\t\tcheck_type(d, int, \"d\")\n",
        "\t\treturn VarAssignment({**self._dic, x: d})\n",
        "\t\n",
        "\t# Returns the list obtained from `l` by replacing all variables by their assignments (other elements should appear unaffected).\n",
        "\t# (Be aware that this function returns a list and not a tuple. If you need a tuple, use the `tuple` function to convert the list into one.)\n",
        "\t# l: list\n",
        "\tdef map(self, l):\n",
        "\t\tcheck_type(l, list, \"l\")\n",
        "\t\tlst = []\n",
        "\t\tfor item in l:\n",
        "\t\t\tif isinstance(item, V):\n",
        "\t\t\t\tlst.append(self._dic[item])\n",
        "\t\t\telse:\n",
        "\t\t\t\tlst.append(item)\n",
        "\t\treturn lst\n",
        "\t\n",
        "\t# Returns a string representation of the object. Used to print the object in a nice way.\n",
        "\tdef __str__(self):\n",
        "\t\treturn f'{self._dic}'"
      ]
    },
    {
      "cell_type": "markdown",
      "metadata": {
        "id": "onimMTmfL_m2"
      },
      "source": [
        "*  For this TP, a formula is represented by an instance of the class `Formula` (in fact, of some sub-class of `Formula`).\n",
        "*  There is one sub-class for each \"kind\" of formulas, that is to say for each clause in the inductive definition of the language of FOL."
      ]
    },
    {
      "cell_type": "code",
      "execution_count": 46,
      "metadata": {
        "id": "ud96YJ-VLuQy"
      },
      "outputs": [],
      "source": [
        "# The general class for logical formulas.\n",
        "# This class is sub-classed below.\n",
        "class Formula:\n",
        "\t# Checks whether the formula is true according to the model `m`.\n",
        "\t# The use of this method requires that the formula be closed.\n",
        "\t# This method does almost nothing by itself. All the work is done by the `check` method defined for each kind of formulas (sub-classes of `Formula`).\n",
        "\t# m: Model\n",
        "\tdef check_closed(self, m):\n",
        "\t\tcheck_type(m, Model, \"m\")\n",
        "\t\t\n",
        "\t\tf = VarAssignment() # Empty partial variable assignment.\n",
        "\t\treturn self.check(m, f)"
      ]
    },
    {
      "cell_type": "markdown",
      "metadata": {
        "id": "goAz4RWIMmmu"
      },
      "source": [
        "# Instructions\n",
        "*  `PredApp` is the sub-class corresponding to formulas composed of a single predicate with all of its arguments (1st clause in the definition of the language of FOL).\n",
        "*  Complete `PredApp.check`. (The slide about the interpretation of FOL formulas contains all the information you need.)\n",
        "*  Then, instantiate three formulas (closed or not), using `PredApp` and print  their interpretation according in `model` for some variable assignment (that you have to instantiate)."
      ]
    },
    {
      "cell_type": "code",
      "execution_count": 51,
      "metadata": {
        "id": "IamyUsHWL19b"
      },
      "outputs": [],
      "source": [
        "# Predicate application\n",
        "class PredApp(Formula):\n",
        "\t# pred: P\n",
        "\t# args: list of V·s and C·s\n",
        "\tdef __init__(self, pred, args):\n",
        "\t\tcheck_type(pred, P, \"pred\")\n",
        "\t\tassert (pred.arity == len(args)), f\"{pred.arity} argument·s expected but {len(args)} given.\"\n",
        "\t\tcheck_type(args, list, \"args\")\n",
        "\t\t\n",
        "\t\tself._pred = pred\n",
        "\t\tself._args = args\n",
        "\t\n",
        "\t# Checks whether the formula is true according to the model `m` and the variable assignment `f`.\n",
        "\t# m: Model\n",
        "\t# f: VarAssignment\n",
        "\tdef check(self, m, f):\n",
        "\t\tcheck_type(m, Model, \"m\")\n",
        "\t\tcheck_type(f, VarAssignment, \"f\")\n",
        "\t\treturn tuple(m.i_func.map(f.map(self._args))) in m.i_func[self._pred]\n",
        "\t\n",
        "\t# Returns a string representation of the object. Used to print the object in a readable way.\n",
        "\tdef __str__(self):\n",
        "\t\treturn f\"{self._pred}({','.join([str(x) for x in self._args])})\""
      ]
    },
    {
      "cell_type": "markdown",
      "metadata": {
        "id": "KEOO3_5YNj0M"
      },
      "source": [
        "# Instructions\n",
        "*  Write `Neg`, a sub-class of `Formula`, for negation.\n",
        "*  This class must possess, in addition to a constructor (`__init__`), a `check` method and a `__str__` one (see `PredApp`; you can use the ¬ symbol in `__str__`).\n",
        "*  (The slide about the syntax of FOL and the one about its semantics contain all the information you need.)\n",
        "*  Use `check_type` at the beginning of each method in order to check the type of each argument.\n",
        "*  Instantiate several formulas using `Neg`, display these formulas and there value in some model for some variable assignment."
      ]
    },
    {
      "cell_type": "code",
      "execution_count": 52,
      "metadata": {
        "id": "vxHNe4F_ONx6"
      },
      "outputs": [],
      "source": [
        "class Neg(Formula):\n",
        "    # pred: P\n",
        "\t# args: list of V·s and C·s\n",
        "\tdef __init__(self, pred, args):\n",
        "\t\tcheck_type(pred, P, \"pred\")\n",
        "\t\tassert (pred.arity == len(args)), f\"{pred.arity} argument·s expected but {len(args)} given.\"\n",
        "\t\tcheck_type(args, list, \"args\")\n",
        "\t\t\n",
        "\t\tself._pred = pred\n",
        "\t\tself._args = args\n",
        "\t\n",
        "\t# Checks whether the formula is true according to the model `m` and the variable assignment `f`.\n",
        "\t# m: Model\n",
        "\t# f: VarAssignment\n",
        "\tdef check(self, m, f):\n",
        "\t\tcheck_type(m, Model, \"m\")\n",
        "\t\tcheck_type(f, VarAssignment, \"f\")\n",
        "\t\treturn tuple(m.i_func.map(f.map(self._args))) not in m.i_func[self._pred]\n",
        "\t\n",
        "\t# Returns a string representation of the object. Used to print the object in a readable way.\n",
        "\tdef __str__(self):\n",
        "\t\treturn f\"¬{self._pred}({','.join([str(x) for x in self._args])})\""
      ]
    },
    {
      "cell_type": "code",
      "execution_count": 57,
      "metadata": {},
      "outputs": [],
      "source": [
        "# instantiate constants and predicates\n",
        "Sabine = C(\"Sabine\")\n",
        "Marcel = C(\"Marcel\")\n",
        "human = P(\"human\", 1)\n",
        "electric = P(\"electric\", 1)\n",
        "truck = P(\"truck\", 1)\n",
        "drive = P(\"drive\", 2)\n",
        "# instanciate domain, interpretation function and model\n",
        "domain = {1, 2, 3}\n",
        "i_func = InterpretationFunc({Sabine: 1, Marcel: 2}, \n",
        "                            {human: {(1,), (2,)}, electric: {(3,)}, truck: {(3,)}, drive: {(2, 3)}})\n",
        "m = Model(domain, i_func)\n",
        "# instantiate assignment\n",
        "x = V(\"x\") # variable\n",
        "y = V(\"y\") # variable\n",
        "f = VarAssignment({x: 1, y: 3})"
      ]
    },
    {
      "cell_type": "code",
      "execution_count": 59,
      "metadata": {},
      "outputs": [
        {
          "name": "stdout",
          "output_type": "stream",
          "text": [
            "¬human(Sabine) is False\n",
            "¬electric(x) is True\n",
            "¬drive(Marcel,y) is False\n"
          ]
        }
      ],
      "source": [
        "# instantiate formulas\n",
        "formula1 = Neg(human, [Sabine])\n",
        "formula2 = Neg(electric, [x])\n",
        "formula3 = Neg(drive, [Marcel, y])\n",
        "print(f\"{formula1} is {formula1.check(m, f)}\")\n",
        "print(f\"{formula2} is {formula2.check(m, f)}\")\n",
        "print(f\"{formula3} is {formula3.check(m, f)}\")"
      ]
    },
    {
      "cell_type": "markdown",
      "metadata": {
        "id": "9uX9Zej0OaQ2"
      },
      "source": [
        "# Instructions\n",
        "*  Same instructions for `Ex`, a sub-class for existential quantification.\n",
        "*  (You can use the ∃ symbol in `__str__`.)"
      ]
    },
    {
      "cell_type": "code",
      "execution_count": null,
      "metadata": {},
      "outputs": [],
      "source": []
    },
    {
      "cell_type": "code",
      "execution_count": null,
      "metadata": {},
      "outputs": [],
      "source": []
    },
    {
      "cell_type": "code",
      "execution_count": null,
      "metadata": {
        "id": "e5hjOINaOi6r"
      },
      "outputs": [],
      "source": []
    },
    {
      "cell_type": "markdown",
      "metadata": {
        "id": "U_XYwGM2OlD4"
      },
      "source": [
        "# Instructions\n",
        "*  Same instructions for `Conj`, a sub-class for conjunction.\n",
        "*  (You can use the ∧ symbol in `__str__`)"
      ]
    },
    {
      "cell_type": "code",
      "execution_count": null,
      "metadata": {
        "id": "R9w6TS_JOpgj"
      },
      "outputs": [],
      "source": []
    },
    {
      "cell_type": "markdown",
      "metadata": {
        "id": "I9nypw_aR_pu"
      },
      "source": [
        "# Instructions\n",
        "*   Test `check_closed` using several complex and diversed closed formulas."
      ]
    },
    {
      "cell_type": "code",
      "execution_count": null,
      "metadata": {
        "id": "zSO3_RdcSABv"
      },
      "outputs": [],
      "source": []
    }
  ],
  "metadata": {
    "colab": {
      "private_outputs": true,
      "provenance": []
    },
    "kernelspec": {
      "display_name": "Python 3",
      "language": "python",
      "name": "python3"
    },
    "language_info": {
      "codemirror_mode": {
        "name": "ipython",
        "version": 3
      },
      "file_extension": ".py",
      "mimetype": "text/x-python",
      "name": "python",
      "nbconvert_exporter": "python",
      "pygments_lexer": "ipython3",
      "version": "3.10.10"
    },
    "vscode": {
      "interpreter": {
        "hash": "13427e9d61bb2f9318a4993daf3135721ffb44e6163d7e44b148ec8ab79fb7ff"
      }
    }
  },
  "nbformat": 4,
  "nbformat_minor": 0
}
